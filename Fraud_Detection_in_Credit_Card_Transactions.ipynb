{
  "nbformat": 4,
  "nbformat_minor": 0,
  "metadata": {
    "colab": {
      "provenance": [],
      "authorship_tag": "ABX9TyO0PG1bJfa9Cx04+TeD85F2",
      "include_colab_link": true
    },
    "kernelspec": {
      "name": "python3",
      "display_name": "Python 3"
    },
    "language_info": {
      "name": "python"
    }
  },
  "cells": [
    {
      "cell_type": "markdown",
      "metadata": {
        "id": "view-in-github",
        "colab_type": "text"
      },
      "source": [
        "<a href=\"https://colab.research.google.com/github/Hamdan070905/-Fraud-Detection-in-Credit-Card-Transactions/blob/main/Fraud_Detection_in_Credit_Card_Transactions.ipynb\" target=\"_parent\"><img src=\"https://colab.research.google.com/assets/colab-badge.svg\" alt=\"Open In Colab\"/></a>"
      ]
    },
    {
      "cell_type": "code",
      "source": [
        "import numpy as np\n",
        "import pandas as pd\n",
        "import matplotlib.pyplot as plt\n",
        "import seaborn as sns\n",
        "\n",
        "from sklearn.preprocessing import StandardScaler\n",
        "from sklearn.model_selection import train_test_split\n",
        "from sklearn.metrics import classification_report, confusion_matrix, roc_auc_score, roc_curve\n",
        "\n",
        "from sklearn.ensemble import IsolationForest\n",
        "from sklearn.neighbors import LocalOutlierFactor\n",
        "from xgboost import XGBClassifier\n",
        "\n",
        "import warnings\n",
        "warnings.filterwarnings('ignore')\n"
      ],
      "metadata": {
        "id": "5eth4y5w5ytT"
      },
      "execution_count": 1,
      "outputs": []
    },
    {
      "cell_type": "code",
      "source": [
        "df = pd.read_csv(\"creditcard.csv\")\n",
        "print(df.head())\n",
        "print(df['Class'].value_counts())  # 0 = Normal, 1 = Fraud\n"
      ],
      "metadata": {
        "colab": {
          "base_uri": "https://localhost:8080/"
        },
        "id": "mvaRZGcO6F6D",
        "outputId": "d7d26601-f5eb-4a75-8d66-73019107cbb8"
      },
      "execution_count": 2,
      "outputs": [
        {
          "output_type": "stream",
          "name": "stdout",
          "text": [
            "   Time        V1        V2        V3        V4        V5        V6        V7  \\\n",
            "0     0 -1.359807 -0.072781  2.536347  1.378155 -0.338321  0.462388  0.239599   \n",
            "1     0  1.191857  0.266151  0.166480  0.448154  0.060018 -0.082361 -0.078803   \n",
            "2     1 -1.358354 -1.340163  1.773209  0.379780 -0.503198  1.800499  0.791461   \n",
            "3     1 -0.966272 -0.185226  1.792993 -0.863291 -0.010309  1.247203  0.237609   \n",
            "4     2 -1.158233  0.877737  1.548718  0.403034 -0.407193  0.095921  0.592941   \n",
            "\n",
            "         V8        V9  ...       V21       V22       V23       V24       V25  \\\n",
            "0  0.098698  0.363787  ... -0.018307  0.277838 -0.110474  0.066928  0.128539   \n",
            "1  0.085102 -0.255425  ... -0.225775 -0.638672  0.101288 -0.339846  0.167170   \n",
            "2  0.247676 -1.514654  ...  0.247998  0.771679  0.909412 -0.689281 -0.327642   \n",
            "3  0.377436 -1.387024  ... -0.108300  0.005274 -0.190321 -1.175575  0.647376   \n",
            "4 -0.270533  0.817739  ... -0.009431  0.798278 -0.137458  0.141267 -0.206010   \n",
            "\n",
            "        V26       V27       V28  Amount  Class  \n",
            "0 -0.189115  0.133558 -0.021053  149.62    0.0  \n",
            "1  0.125895 -0.008983  0.014724    2.69    0.0  \n",
            "2 -0.139097 -0.055353 -0.059752  378.66    0.0  \n",
            "3 -0.221929  0.062723  0.061458  123.50    0.0  \n",
            "4  0.502292  0.219422  0.215153   69.99    0.0  \n",
            "\n",
            "[5 rows x 31 columns]\n",
            "Class\n",
            "0.0    23235\n",
            "1.0       87\n",
            "Name: count, dtype: int64\n"
          ]
        }
      ]
    },
    {
      "cell_type": "code",
      "source": [
        "scaler = StandardScaler()\n",
        "df['Amount'] = scaler.fit_transform(df[['Amount']])\n",
        "df.drop(['Time'], axis=1, inplace=True)\n",
        "\n",
        "X = df.drop('Class', axis=1)\n",
        "y = df['Class']\n",
        "print(X.shape, y.shape)\n"
      ],
      "metadata": {
        "colab": {
          "base_uri": "https://localhost:8080/"
        },
        "id": "qvVYh9N96Hri",
        "outputId": "e48210d5-b9ac-4fc9-a376-e4d3ca68a810"
      },
      "execution_count": 3,
      "outputs": [
        {
          "output_type": "stream",
          "name": "stdout",
          "text": [
            "(23323, 29) (23323,)\n"
          ]
        }
      ]
    },
    {
      "cell_type": "code",
      "source": [
        "X = X.dropna()\n",
        "y = y[X.index]\n",
        "\n",
        "from sklearn.impute import SimpleImputer\n",
        "\n",
        "imputer = SimpleImputer(strategy='mean')  # or 'median'\n",
        "X = pd.DataFrame(imputer.fit_transform(X), columns=X.columns)\n",
        "\n",
        "from sklearn.neighbors import LocalOutlierFactor\n",
        "\n",
        "iso_forest = IsolationForest(contamination=0.001)\n",
        "y_pred_iso = iso_forest.fit_predict(X)\n",
        "y_pred_iso = [1 if i == -1 else 0 for i in y_pred_iso]\n",
        "\n",
        "\n",
        "lof = LocalOutlierFactor(n_neighbors=20, contamination=0.001)\n",
        "y_pred_lof = lof.fit_predict(X)\n",
        "y_pred_lof = [1 if i == -1 else 0 for i in y_pred_lof]\n",
        "\n",
        "print(\"Isolation Forest:\\n\", confusion_matrix(y, y_pred_iso))\n",
        "print(\"Local Outlier Factor:\\n\", confusion_matrix(y, y_pred_lof))\n",
        "\n",
        "\n",
        "print(X.isnull().sum().sum())\n",
        "\n"
      ],
      "metadata": {
        "colab": {
          "base_uri": "https://localhost:8080/"
        },
        "id": "mEPgYUCm7Ebq",
        "outputId": "a8ada3c0-c80d-4967-dae1-a23191323e02"
      },
      "execution_count": 8,
      "outputs": [
        {
          "output_type": "stream",
          "name": "stdout",
          "text": [
            "Isolation Forest:\n",
            " [[23230     5]\n",
            " [   68    19]]\n",
            "Local Outlier Factor:\n",
            " [[23211    24]\n",
            " [   87     0]]\n",
            "0\n"
          ]
        }
      ]
    },
    {
      "cell_type": "code",
      "source": [
        "X_train, X_test, y_train, y_test = train_test_split(X, y, test_size=0.2, stratify=y, random_state=42)\n",
        "print(X_train,X_test, y_train, y_test)"
      ],
      "metadata": {
        "colab": {
          "base_uri": "https://localhost:8080/"
        },
        "id": "Hbv1PiFP7oZC",
        "outputId": "3362c80d-07da-4b3d-b126-32da377011bd"
      },
      "execution_count": 9,
      "outputs": [
        {
          "output_type": "stream",
          "name": "stdout",
          "text": [
            "             V1        V2        V3        V4        V5        V6        V7  \\\n",
            "17826  1.298296 -0.890844  1.177912 -0.407019 -1.699650 -0.410841 -1.150076   \n",
            "356    1.260328  0.299161  0.527681  0.614899 -0.420592 -0.977533  0.108485   \n",
            "2422  -2.624649 -1.920821  3.419228  1.216409 -0.213411  0.605521 -0.203789   \n",
            "18921 -2.168570 -1.964947  0.288038 -2.184667 -0.411686 -0.717255 -0.583060   \n",
            "11619 -0.835969  0.424841  2.191436 -0.413210 -0.542720 -0.238319  0.185999   \n",
            "...         ...       ...       ...       ...       ...       ...       ...   \n",
            "18934 -0.903993  0.207597  1.658510  0.152728  0.532681  0.544890  0.701423   \n",
            "21302 -0.667901 -0.067322  0.913088 -2.564702 -1.098467 -0.660326 -0.630405   \n",
            "20406 -4.064560  1.663548  0.701321 -1.899059  0.245438 -0.915223  1.405746   \n",
            "13345 -1.118615 -0.532640  2.795817 -0.090502 -0.490425  0.608232  0.128766   \n",
            "11876  1.067912 -0.147216  0.244017  0.139686 -0.090984  0.122657 -0.216739   \n",
            "\n",
            "             V8        V9       V10  ...       V20       V21       V22  \\\n",
            "17826  0.056691  0.078335  0.444948  ...  0.087569  0.128401  0.403167   \n",
            "356   -0.244502 -0.058316 -0.085828  ... -0.049242 -0.249401 -0.688429   \n",
            "2422   0.279096  1.481899 -0.914862  ... -0.200153  0.070023  1.097727   \n",
            "18921  0.391565 -2.451529  1.022834  ... -0.109144 -0.063051 -0.074424   \n",
            "11619 -0.697616  0.801993  0.950431  ...  0.126092 -0.041520  0.337707   \n",
            "...         ...       ...       ...  ...       ...       ...       ...   \n",
            "18934 -0.572009  1.186719  0.712640  ... -0.175868 -0.219264  0.105970   \n",
            "21302  0.488925 -2.535304  0.964268  ... -0.331545 -0.069860  0.033125   \n",
            "20406 -1.382548  2.642657  4.030376  ...  0.069983 -0.499738  0.069992   \n",
            "13345  0.063810  0.434177 -0.247693  ... -0.123036 -0.557500 -0.949302   \n",
            "11876  0.082896  1.197053 -0.411140  ... -0.093431 -0.042034  0.040956   \n",
            "\n",
            "            V23       V24       V25       V26       V27       V28    Amount  \n",
            "17826 -0.029836  0.419864  0.336614 -0.198261  0.046263  0.030879 -0.181195  \n",
            "356    0.128290  0.398967  0.240282  0.092213 -0.024633  0.020529 -0.336503  \n",
            "2422   0.870735  0.447073  0.772014 -0.164812  0.033810 -0.187908  0.487947  \n",
            "18921  0.342579 -0.523167 -0.089838 -0.381430  0.207345  0.052293  0.449650  \n",
            "11619 -0.089669  0.576879 -0.271118 -0.295633 -1.049886 -0.291614 -0.322277  \n",
            "...         ...       ...       ...       ...       ...       ...       ...  \n",
            "18934 -0.186250 -0.746167 -0.118488  0.751868 -0.995037 -0.620174 -0.303435  \n",
            "21302 -0.029301 -0.052622 -0.281351 -0.404558  0.258319  0.120953 -0.275171  \n",
            "20406  0.275005  0.355147 -0.163053  0.474619 -1.921282 -0.785293 -0.309653  \n",
            "13345  0.114334 -0.152538  0.352248 -0.584920 -0.143878 -0.144765  0.347806  \n",
            "11876 -0.017099 -0.284615  0.150557  1.038305 -0.101555 -0.015589 -0.068894  \n",
            "\n",
            "[18657 rows x 29 columns]              V1        V2        V3        V4        V5        V6        V7  \\\n",
            "19671  1.406857 -0.540543 -0.270679 -1.021681 -0.282499 -0.156664 -0.414350   \n",
            "7635   0.869522 -1.068076  2.040579  0.914457 -1.938949  0.666706 -1.466083   \n",
            "8625  -0.504072  3.923139 -5.850403  3.445290  5.058796  1.713523  0.875245   \n",
            "23025 -3.475634  2.826901 -3.495507  1.133780 -0.034329 -1.689062  1.520585   \n",
            "1675  -1.119215  1.082170  1.311460 -0.813252 -0.074599 -0.142097  0.269410   \n",
            "...         ...       ...       ...       ...       ...       ...       ...   \n",
            "18053  1.218702  0.177978  0.307746  1.131989 -0.196770 -0.403596  0.065584   \n",
            "18790  1.158614  0.069429  0.566190  0.514913 -0.442161 -0.343134 -0.195383   \n",
            "21581  0.799178 -1.514914 -0.445746 -0.408234  0.895783  4.349833 -1.219052   \n",
            "22646  1.198567  0.231864  0.013675  0.559377 -0.187499 -1.225223  0.511650   \n",
            "2781   1.263085 -0.964571 -0.967924 -1.253683  1.209474  3.508479 -1.146879   \n",
            "\n",
            "             V8        V9       V10  ...       V20       V21       V22  \\\n",
            "19671 -0.106936 -1.166226  0.796780  ...  0.216174  0.212167  0.477906   \n",
            "7635   0.404448  3.177028 -0.810368  ...  0.047969  0.002767  0.459372   \n",
            "8625   1.266811 -1.786064 -2.684483  ... -0.006201 -0.288042 -0.883719   \n",
            "23025 -0.440926  2.655978  3.840302  ...  1.307569 -0.931058 -0.240817   \n",
            "1675  -0.553540  0.326567 -0.154834  ... -0.083767  0.545669 -0.678861   \n",
            "...         ...       ...       ...  ...       ...       ...       ...   \n",
            "18053 -0.094974  0.358942 -0.106009  ... -0.113694 -0.236935 -0.605319   \n",
            "18790  0.134942 -0.051257  0.093773  ... -0.196812 -0.178339 -0.578038   \n",
            "21581  1.113857  1.456708 -0.532412  ...  0.485978  0.076874  0.005774   \n",
            "22646 -0.359399 -0.259776 -0.089030  ...  0.016065 -0.352293 -1.129664   \n",
            "2781   0.833498 -0.855477  0.766484  ... -0.205635 -0.195220 -0.361859   \n",
            "\n",
            "            V23       V24       V25       V26       V27       V28    Amount  \n",
            "19671 -0.304169 -0.772996  0.765194 -0.067141 -0.013394 -0.004854 -0.148691  \n",
            "7635  -0.159641  0.598950  0.145355  1.174544 -0.035655  0.023698  0.213460  \n",
            "8625  -0.436484  0.256158  1.059154  0.406180 -0.263793 -0.081023 -0.341120  \n",
            "23025 -0.260162  0.160923 -0.110338 -0.642195 -0.713035 -0.944810  0.078077  \n",
            "1675  -0.081371 -0.005667  0.054144  0.395177  0.412901  0.216679 -0.322277  \n",
            "...         ...       ...       ...       ...       ...       ...       ...  \n",
            "18053 -0.059527 -0.167249  0.591082 -0.481346  0.024247  0.022717 -0.239606  \n",
            "18790  0.192969  0.186164  0.046744  0.098170 -0.023979  0.004963 -0.336503  \n",
            "21581 -0.343198  1.145391  0.474812  1.219476 -0.051655  0.044235  0.753625  \n",
            "22646  0.102340  0.394615  0.285621  0.132103 -0.069447  0.018187 -0.106060  \n",
            "2781  -0.125846  1.030030  0.467271  0.668059 -0.013029  0.026651  0.050143  \n",
            "\n",
            "[4665 rows x 29 columns] 17826    0.0\n",
            "356      0.0\n",
            "2422     0.0\n",
            "18921    0.0\n",
            "11619    0.0\n",
            "        ... \n",
            "18934    0.0\n",
            "21302    0.0\n",
            "20406    0.0\n",
            "13345    0.0\n",
            "11876    0.0\n",
            "Name: Class, Length: 18657, dtype: float64 19671    0.0\n",
            "7635     0.0\n",
            "8625     0.0\n",
            "23025    0.0\n",
            "1675     0.0\n",
            "        ... \n",
            "18053    0.0\n",
            "18790    0.0\n",
            "21581    0.0\n",
            "22646    0.0\n",
            "2781     0.0\n",
            "Name: Class, Length: 4665, dtype: float64\n"
          ]
        }
      ]
    },
    {
      "cell_type": "code",
      "source": [
        "from xgboost import XGBClassifier\n",
        "model = XGBClassifier()\n",
        "model.fit(X_train, y_train)\n",
        "\n",
        "y_pred = xgb.predict(X_test)\n",
        "print(confusion_matrix(y_test, y_pred))\n",
        "print(classification_report(y_test, y_pred))\n",
        "print(roc_auc_score(y_test, y_pred))"
      ],
      "metadata": {
        "colab": {
          "base_uri": "https://localhost:8080/"
        },
        "id": "o19vIupX8CCq",
        "outputId": "811feddf-21ba-40f0-8898-93125406f10e"
      },
      "execution_count": 15,
      "outputs": [
        {
          "output_type": "stream",
          "name": "stdout",
          "text": [
            "[[4644    4]\n",
            " [   1   16]]\n",
            "              precision    recall  f1-score   support\n",
            "\n",
            "         0.0       1.00      1.00      1.00      4648\n",
            "         1.0       0.80      0.94      0.86        17\n",
            "\n",
            "    accuracy                           1.00      4665\n",
            "   macro avg       0.90      0.97      0.93      4665\n",
            "weighted avg       1.00      1.00      1.00      4665\n",
            "\n",
            "0.9701579426951503\n"
          ]
        }
      ]
    },
    {
      "cell_type": "code",
      "source": [
        "y_proba = xgb.predict_proba(X_test)[:, 1]\n",
        "fpr, tpr, _ = roc_curve(y_test, y_proba)\n",
        "roc_auc = roc_auc_score(y_test, y_proba)\n",
        "\n",
        "plt.figure(figsize=(8,6))\n",
        "plt.plot(fpr, tpr, label=f'AUC = {roc_auc:.2f}')\n",
        "plt.plot([0, 1], [0, 1], linestyle='--')\n",
        "plt.title('ROC Curve')\n",
        "plt.xlabel('False Positive Rate')\n",
        "plt.ylabel('True Positive Rate')\n",
        "plt.legend()\n",
        "plt.grid()\n",
        "plt.show()"
      ],
      "metadata": {
        "colab": {
          "base_uri": "https://localhost:8080/",
          "height": 564
        },
        "id": "hgNXGn5-8Fx6",
        "outputId": "7de67061-5434-4822-f4a1-28d4c9b731b0"
      },
      "execution_count": 11,
      "outputs": [
        {
          "output_type": "display_data",
          "data": {
            "text/plain": [
              "<Figure size 800x600 with 1 Axes>"
            ],
            "image/png": "[encoded data removed]"
          },
          "metadata": {}
        }
      ]
    },
    {
      "cell_type": "code",
      "source": [
        "import joblib\n",
        "joblib.dump(model, 'xgb_model.pkl')\n"
      ],
      "metadata": {
        "colab": {
          "base_uri": "https://localhost:8080/"
        },
        "id": "-_7-sGSo-E06",
        "outputId": "ed666875-e061-4b08-b068-ccdefbb3247e"
      },
      "execution_count": 16,
      "outputs": [
        {
          "output_type": "execute_result",
          "data": {
            "text/plain": [
              "['xgb_model.pkl']"
            ]
          },
          "metadata": {},
          "execution_count": 16
        }
      ]
    },
    {
      "cell_type": "code",
      "source": [
        "from google.colab import files\n",
        "files.download('xgb_model.pkl')\n"
      ],
      "metadata": {
        "colab": {
          "base_uri": "https://localhost:8080/",
          "height": 17
        },
        "id": "k_82BQOE-GBq",
        "outputId": "971fc2ec-733a-4bde-f142-d6598ebbdd43"
      },
      "execution_count": 17,
      "outputs": [
        {
          "output_type": "display_data",
          "data": {
            "text/plain": [
              "<IPython.core.display.Javascript object>"
            ],
            "application/javascript": [
              "\n",
              "    async function download(id, filename, size) {\n",
              "      if (!google.colab.kernel.accessAllowed) {\n",
              "        return;\n",
              "      }\n",
              "      const div = document.createElement('div');\n",
              "      const label = document.createElement('label');\n",
              "      label.textContent = `Downloading \"${filename}\": `;\n",
              "      div.appendChild(label);\n",
              "      const progress = document.createElement('progress');\n",
              "      progress.max = size;\n",
              "      div.appendChild(progress);\n",
              "      document.body.appendChild(div);\n",
              "\n",
              "      const buffers = [];\n",
              "      let downloaded = 0;\n",
              "\n",
              "      const channel = await google.colab.kernel.comms.open(id);\n",
              "      // Send a message to notify the kernel that we're ready.\n",
              "      channel.send({})\n",
              "\n",
              "      for await (const message of channel.messages) {\n",
              "        // Send a message to notify the kernel that we're ready.\n",
              "        channel.send({})\n",
              "        if (message.buffers) {\n",
              "          for (const buffer of message.buffers) {\n",
              "            buffers.push(buffer);\n",
              "            downloaded += buffer.byteLength;\n",
              "            progress.value = downloaded;\n",
              "          }\n",
              "        }\n",
              "      }\n",
              "      const blob = new Blob(buffers, {type: 'application/binary'});\n",
              "      const a = document.createElement('a');\n",
              "      a.href = window.URL.createObjectURL(blob);\n",
              "      a.download = filename;\n",
              "      div.appendChild(a);\n",
              "      a.click();\n",
              "      div.remove();\n",
              "    }\n",
              "  "
            ]
          },
          "metadata": {}
        },
        {
          "output_type": "display_data",
          "data": {
            "text/plain": [
              "<IPython.core.display.Javascript object>"
            ],
            "application/javascript": [
              "download(\"download_9bdfde9c-157c-45d4-90d1-8e9f92ce805a\", \"xgb_model.pkl\", 95790)"
            ]
          },
          "metadata": {}
        }
      ]
    }
  ]
}